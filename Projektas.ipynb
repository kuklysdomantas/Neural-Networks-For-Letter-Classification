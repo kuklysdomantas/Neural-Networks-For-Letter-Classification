{
  "nbformat": 4,
  "nbformat_minor": 0,
  "metadata": {
    "colab": {
      "provenance": [],
      "authorship_tag": "ABX9TyP5agXWxnx9fZ3V7aiDPRjn",
      "include_colab_link": true
    },
    "kernelspec": {
      "name": "python3",
      "display_name": "Python 3"
    },
    "language_info": {
      "name": "python"
    }
  },
  "cells": [
    {
      "cell_type": "markdown",
      "metadata": {
        "id": "view-in-github",
        "colab_type": "text"
      },
      "source": [
        "<a href=\"https://colab.research.google.com/github/kuklysdomantas/Neural-Networks-For-Letter-Classification/blob/main/Projektas.ipynb\" target=\"_parent\"><img src=\"https://colab.research.google.com/assets/colab-badge.svg\" alt=\"Open In Colab\"/></a>"
      ]
    },
    {
      "cell_type": "code",
      "source": [
        "from google.colab import drive\n",
        "drive.mount('/content/drive')"
      ],
      "metadata": {
        "colab": {
          "base_uri": "https://localhost:8080/"
        },
        "id": "cC9htk0uJYhs",
        "outputId": "f6005883-7d52-4f53-c9c3-4157f6ea23b6"
      },
      "execution_count": 1,
      "outputs": [
        {
          "output_type": "stream",
          "name": "stdout",
          "text": [
            "Mounted at /content/drive\n"
          ]
        }
      ]
    },
    {
      "cell_type": "code",
      "execution_count": 8,
      "metadata": {
        "colab": {
          "base_uri": "https://localhost:8080/",
          "height": 502
        },
        "id": "VfHCDcE0I35J",
        "outputId": "36370833-bb0f-4bb3-8974-4e46ed297be5"
      },
      "outputs": [
        {
          "output_type": "stream",
          "name": "stdout",
          "text": [
            "(32, 32, 3)\n",
            "['u', 's', 'p', 'e', 'r', 'i', 'o', 'r', 'c', 'a', 'e', 'r', 'e', 'd', 'c', 'o', 'a', 't', 'g', 'r', 'a', 'i', 'n', 'f', 'r', 'e', 'e', 'n', 'r', 'c', 'e', 'i', 'k', 'i', 'w', 'w', 'w', 'g', 'i', 'n', 't', 'a', 'r', 'i', 'n', 'e', 'l', 't', 'g', 'i', 'n', 't', 'a', 'r', 'i', 'n', 'e', 'v', 'a', 'i', 's', 't', 'i', 'n', 'e', 'i', 'n', 'm', 'e', 'd', 'i', 'c', 'a', 'k', 'l', 'i', 'n', 'i', 'k', 'a', 'r', 'i', 'm', 'i', 'n', 'o', 'r', 'i', 'n', 'a', 'u', 'j', 'a', 'u', 's', 'i', 'o', 'r', 'a', 'g', 'e', 'l', 'i', 'o', 'p', 'r', 'a', 'd', 'e', 'k', 'd', 'i', 'r', 'b', 't', 'i', 'a', 't', 'e', 'k', 'i', 'r', 'i', 'm', 'i', 'i', 'r', 'u', 'z', 's', 'i', 'd', 'i', 'r', 'b', 'k', 's', 'e', 'n', 'o', 'j', 'i', 'p', 'l', 'y', 't', 'i', 'n', 'e', 'i', 'k', 'i', 'j', 'b', 's', 'p', 'i', 'g', 'i', 'a', 'u', 'g', 'r', 'i', 'k', 'i', 'u', 'g', 'r', 'i', 'k', 'i', 'a', 'i', 'j', 'c', 'd', 'e', 'c', 'a', 'u', 'x', 's', 'u', 'g', 'b', 'g', 'p', 'o', 'k', 'a', 'l', 'b', 'i', 'u', 'p', 'l', 'a', 'n', 'u', 'x', 'i', 'a', 'o', 'm', 'i', 'r', 'e', 'd', 'm', 'i', 'n', 'o', 't', 'e', 'p', 'o', 'r', 'g', 'a', 'p', 'y', 'r', 'a', 'n', 'k', 'e', 'd', 'o', 'v', 'a', 'n', 'u', 'x', 'i', 'a', 'o', 'm', 'i', 'r', 'e', 'd', 'm', 'i', 'a', 't', 'c', 'h', 'a', 'c', 't', 'i', 'v', 'e', 't', 'e', 'l', 'e', 'g', 'v', 'i', 'l', 'n', 'i', 'a', 'u', 's', 'g', 'e', 'd', 'i', 'm', 'i', 'n', 'o', 't', 'e', 'c', 'h', 'n', 'i', 'k', 'o', 's', 'u', 'n', 'i', 'v', 'e', 'r', 's', 'i', 't', 'e', 't', 'a', 's', 'p', 'a', 'n', 'o', 'r', 'a', 'm', 'a', 'b', 'a', 'r', 'b', 'i', 'e', 'm', 'e', 't', 'j', 'u', 'b', 'i', 'l', 'i', 'e', 'j', 'a', 'u', 's', 'p', 'a', 'r', 'o', 'd', 'a', 'y', 'm']\n",
            "['0', '0', '0', '0', '0', '0', '0', '1', '0', '0', '1', '0', '0', '0', '0', '0', '0', '0', '0', '0', '0', '0', '0', '0', '0', '0', '0', '0', '0', '0', '0', '0', '0', '0', '1', '1', '1', '1', '1', '1', '1', '1', '1', '1', '1', '1', '1', '1', '0', '0', '0', '0', '0', '0', '0', '0', '0', '0', '0', '0', '0', '0', '0', '0', '0', '0', '0', '0', '0', '0', '0', '0', '0', '0', '0', '0', '0', '0', '0', '0', '0', '0', '0', '0', '0', '0', '0', '0', '0', '0', '0', '0', '0', '0', '0', '0', '0', '0', '0', '0', '0', '0', '0', '0', '0', '0', '0', '0', '0', '0', '0', '0', '0', '0', '0', '0', '0', '0', '0', '0', '0', '0', '0', '0', '0', '0', '0', '0', '0', '0', '0', '0', '0', '0', '0', '0', '0', '0', '0', '0', '0', '0', '0', '0', '0', '0', '0', '0', '0', '0', '0', '0', '0', '0', '0', '0', '0', '0', '0', '0', '0', '0', '0', '0', '0', '0', '0', '1', '1', '1', '1', '1', '1', '1', '0', '0', '0', '0', '0', '0', '0', '0', '0', '0', '0', '0', '0', '0', '0', '0', '0', '0', '0', '0', '0', '0', '0', '0', '0', '0', '0', '0', '0', '0', '0', '0', '0', '0', '0', '0', '0', '0', '0', '0', '0', '0', '0', '0', '0', '0', '0', '0', '0', '0', '0', '0', '0', '0', '0', '0', '0', '0', '0', '0', '0', '0', '0', '0', '0', '0', '0', '0', '0', '0', '0', '0', '0', '0', '0', '0', '0', '0', '0', '0', '0', '0', '0', '0', '0', '0', '0', '0', '0', '0', '0', '0', '0', '0', '0', '0', '0', '0', '0', '0', '0', '0', '0', '0', '0', '0', '0', '0', '0', '0', '0', '0', '0', '0', '0', '0', '0', '0', '0', '0', '0', '0', '0', '1', '1', '1', '1', '1', '1', '1', '1', '1', '1', '1', '1', '1', '1', '1', '1', '1', '1', '1', '1', '1', '1', '1', '1', '1', '1', '1', '1', '1', '1', '1', '1', '1', '1', '1', '1']\n"
          ]
        },
        {
          "output_type": "display_data",
          "data": {
            "text/plain": [
              "<Figure size 640x480 with 1 Axes>"
            ],
            "image/png": "[encoded data removed]"
          },
          "metadata": {}
        }
      ],
      "source": [
        "import pandas as pd\n",
        "import cv2\n",
        "import imageio.v3 as iio\n",
        "import matplotlib.pyplot as plt\n",
        "\n",
        "path = \"/content/drive/MyDrive/Colab Notebooks/Projektas/Raides/\"\n",
        "\n",
        "#Reading all the images\n",
        "images = []\n",
        "for i in range(333):\n",
        "    image = cv2.imread(f\"{path}{i+1}.jpg\")\n",
        "    image = cv2.resize(image, dsize=(32, 32))\n",
        "    image = image / 255.0\n",
        "    images.append(image)\n",
        "\n",
        "plt.imshow(images[-1])\n",
        "print(images[-1].shape)\n",
        "\n",
        "with open(f\"{path}Labels.csv\", \"r\", encoding=\"utf-8-sig\") as f:\n",
        "     labels = [line.strip() for line in f if line.strip() != '']\n",
        "print(labels)\n",
        "\n",
        "with open(f\"{path}Binary.csv\", \"r\", encoding=\"utf-8-sig\") as f:\n",
        "     y_binary = [line.strip() for line in f if line.strip() != '']\n",
        "print(y_binary)"
      ]
    },
    {
      "cell_type": "code",
      "source": [
        "#Finding all the unique characters\n",
        "\n",
        "unique_characters = set(labels)\n",
        "\n",
        "unique_characters.discard('\\ufeff')\n",
        "unique_characters.discard('\\r')\n",
        "unique_characters.discard('\\n')\n",
        "\n",
        "print(unique_characters)\n",
        "\n",
        "letter_to_index = {character: idx for idx, character in enumerate(unique_characters)}\n",
        "\n",
        "import numpy as np\n",
        "\n",
        "#Using one-hot encoding\n",
        "\n",
        "y = np.zeros((len(labels), len(unique_characters)))\n",
        "for text_idx, letter in enumerate(labels):\n",
        "    character_index = letter_to_index[letter]\n",
        "\n",
        "    y[text_idx, character_index] = 1.0\n",
        "\n",
        "print(labels[0])\n",
        "print(letter_to_index)\n",
        "print(y[0])"
      ],
      "metadata": {
        "id": "fMIljs-rPx8O",
        "colab": {
          "base_uri": "https://localhost:8080/"
        },
        "outputId": "743a8aff-deb5-478f-a9fb-e76596df031a"
      },
      "execution_count": 9,
      "outputs": [
        {
          "output_type": "stream",
          "name": "stdout",
          "text": [
            "{'d', 'm', 'b', 't', 'v', 'w', 'c', 'g', 'r', 'h', 'o', 'a', 'u', 'y', 'p', 'l', 'z', 's', 'i', 'f', 'k', 'x', 'e', 'j', 'n'}\n",
            "u\n",
            "{'d': 0, 'm': 1, 'b': 2, 't': 3, 'v': 4, 'w': 5, 'c': 6, 'g': 7, 'r': 8, 'h': 9, 'o': 10, 'a': 11, 'u': 12, 'y': 13, 'p': 14, 'l': 15, 'z': 16, 's': 17, 'i': 18, 'f': 19, 'k': 20, 'x': 21, 'e': 22, 'j': 23, 'n': 24}\n",
            "[0. 0. 0. 0. 0. 0. 0. 0. 0. 0. 0. 0. 1. 0. 0. 0. 0. 0. 0. 0. 0. 0. 0. 0.\n",
            " 0.]\n"
          ]
        }
      ]
    },
    {
      "cell_type": "code",
      "source": [
        "#Printing either the quantity of the letters or the frequency\n",
        "\n",
        "for unique_character in unique_characters:\n",
        "    count = labels.count(unique_character)\n",
        "\n",
        "    print(f\"'{unique_character}': {count}\")\n",
        "    #print(f\"'{unique_character}': {count / len(labels):.4f}\")"
      ],
      "metadata": {
        "colab": {
          "base_uri": "https://localhost:8080/"
        },
        "id": "a9wHQUIO_oTG",
        "outputId": "28511255-daf8-499c-b5b9-bea68a4cc03a"
      },
      "execution_count": 10,
      "outputs": [
        {
          "output_type": "stream",
          "name": "stdout",
          "text": [
            "'d': 11\n",
            "'m': 11\n",
            "'b': 8\n",
            "'t': 16\n",
            "'v': 5\n",
            "'w': 3\n",
            "'c': 9\n",
            "'g': 12\n",
            "'r': 26\n",
            "'h': 2\n",
            "'o': 16\n",
            "'a': 34\n",
            "'u': 15\n",
            "'y': 3\n",
            "'p': 10\n",
            "'l': 9\n",
            "'z': 1\n",
            "'s': 12\n",
            "'i': 56\n",
            "'f': 1\n",
            "'k': 12\n",
            "'x': 3\n",
            "'e': 30\n",
            "'j': 6\n",
            "'n': 22\n"
          ]
        }
      ]
    },
    {
      "cell_type": "code",
      "source": [
        "from sklearn.model_selection import train_test_split\n",
        "\n",
        "images = np.array(images)\n",
        "y_binary = np.array(y_binary, dtype = np.float32)\n",
        "y_binary = y_binary.reshape(-1, 1)\n",
        "print(y_binary.shape)\n",
        "\n",
        "#Splitting the data to test and training datasets\n",
        "\n",
        "X_train, X_test, y_train_binary, y_test_binary = train_test_split(images, y_binary, test_size=0.3, random_state=42)\n",
        "X_train, X_test, y_train, y_test = train_test_split(images, y, test_size=0.3, random_state=42)\n",
        "\n",
        "plt.imshow(X_train[5])\n",
        "print(y_train_binary[5])\n",
        "\n",
        "#print(images.shape)\n",
        "#print(X_train.shape)\n",
        "#print(X_test.shape)"
      ],
      "metadata": {
        "colab": {
          "base_uri": "https://localhost:8080/",
          "height": 465
        },
        "id": "e5JLtNwHJxk6",
        "outputId": "47cdd20f-2fee-45bd-b35b-98f61cf25a6f"
      },
      "execution_count": 13,
      "outputs": [
        {
          "output_type": "stream",
          "name": "stdout",
          "text": [
            "(333, 1)\n",
            "[1.]\n"
          ]
        },
        {
          "output_type": "display_data",
          "data": {
            "text/plain": [
              "<Figure size 640x480 with 1 Axes>"
            ],
            "image/png": "[encoded data removed]"
          },
          "metadata": {}
        }
      ]
    },
    {
      "cell_type": "code",
      "source": [
        "import tensorflow as tf\n",
        "\n",
        "#Building a model for neural network\n",
        "\n",
        "inputs = tf.keras.layers.Input((32, 32, 3))\n",
        "\n",
        "x = tf.keras.layers.RandomContrast(0.05)(inputs)\n",
        "x = tf.keras.layers.RandomZoom(0.1)(x)\n",
        "x = tf.keras.layers.RandomRotation(0.2)(x)\n",
        "\n",
        "x = tf.keras.layers.Conv2D(32, 9, padding=\"same\", activation=\"tanh\")(x)\n",
        "x = tf.keras.layers.MaxPool2D(strides=2, padding=\"same\")(x)\n",
        "\n",
        "outputs = tf.keras.layers.Dense(32, activation=\"tanh\")(x)\n",
        "\n",
        "x = tf.keras.layers.Conv2D(64, 3, padding=\"same\", activation=\"tanh\")(x)\n",
        "x = tf.keras.layers.MaxPool2D(strides=2, padding=\"same\")(x)\n",
        "\n",
        "outputs = tf.keras.layers.Dense(64, activation=\"tanh\")(x)\n",
        "\n",
        "x = tf.keras.layers.Conv2D(128, 3, padding=\"same\", activation=\"tanh\")(x)\n",
        "x = tf.keras.layers.MaxPool2D(strides=2, padding=\"same\")(x)\n",
        "\n",
        "outputs = tf.keras.layers.Dense(128, activation=\"tanh\")(x)\n",
        "\n",
        "x = tf.keras.layers.Flatten()(x)\n",
        "\n",
        "output_augmentation = tf.keras.layers.Dense(1, activation=\"sigmoid\", name=\"augmentation\")(x)\n",
        "\n",
        "output_classification = tf.keras.layers.Dense(25, activation=\"softmax\", name=\"classification\")(x)\n",
        "\n",
        "model = tf.keras.models.Model(inputs = inputs, outputs = [output_augmentation, output_classification])\n",
        "model.summary()"
      ],
      "metadata": {
        "colab": {
          "base_uri": "https://localhost:8080/",
          "height": 663
        },
        "id": "h1KBy1BsP0pH",
        "outputId": "fb0e583f-878e-4666-8eb6-7bc58045392e"
      },
      "execution_count": 14,
      "outputs": [
        {
          "output_type": "display_data",
          "data": {
            "text/plain": [
              "\u001b[1mModel: \"functional\"\u001b[0m\n"
            ],
            "text/html": [
              "<pre style=\"white-space:pre;overflow-x:auto;line-height:normal;font-family:Menlo,'DejaVu Sans Mono',consolas,'Courier New',monospace\"><span style=\"font-weight: bold\">Model: \"functional\"</span>\n",
              "</pre>\n"
            ]
          },
          "metadata": {}
        },
        {
          "output_type": "display_data",
          "data": {
            "text/plain": [
              "┏━━━━━━━━━━━━━━━━━━━━━━━━━━━┳━━━━━━━━━━━━━━━━━━━━━━━━┳━━━━━━━━━━━━━━━━┳━━━━━━━━━━━━━━━━━━━━━━━━┓\n",
              "┃\u001b[1m \u001b[0m\u001b[1mLayer (type)             \u001b[0m\u001b[1m \u001b[0m┃\u001b[1m \u001b[0m\u001b[1mOutput Shape          \u001b[0m\u001b[1m \u001b[0m┃\u001b[1m \u001b[0m\u001b[1m       Param #\u001b[0m\u001b[1m \u001b[0m┃\u001b[1m \u001b[0m\u001b[1mConnected to          \u001b[0m\u001b[1m \u001b[0m┃\n",
              "┡━━━━━━━━━━━━━━━━━━━━━━━━━━━╇━━━━━━━━━━━━━━━━━━━━━━━━╇━━━━━━━━━━━━━━━━╇━━━━━━━━━━━━━━━━━━━━━━━━┩\n",
              "│ input_layer (\u001b[38;5;33mInputLayer\u001b[0m)  │ (\u001b[38;5;45mNone\u001b[0m, \u001b[38;5;34m32\u001b[0m, \u001b[38;5;34m32\u001b[0m, \u001b[38;5;34m3\u001b[0m)      │              \u001b[38;5;34m0\u001b[0m │ -                      │\n",
              "├───────────────────────────┼────────────────────────┼────────────────┼────────────────────────┤\n",
              "│ random_contrast           │ (\u001b[38;5;45mNone\u001b[0m, \u001b[38;5;34m32\u001b[0m, \u001b[38;5;34m32\u001b[0m, \u001b[38;5;34m3\u001b[0m)      │              \u001b[38;5;34m0\u001b[0m │ input_layer[\u001b[38;5;34m0\u001b[0m][\u001b[38;5;34m0\u001b[0m]      │\n",
              "│ (\u001b[38;5;33mRandomContrast\u001b[0m)          │                        │                │                        │\n",
              "├───────────────────────────┼────────────────────────┼────────────────┼────────────────────────┤\n",
              "│ random_zoom (\u001b[38;5;33mRandomZoom\u001b[0m)  │ (\u001b[38;5;45mNone\u001b[0m, \u001b[38;5;34m32\u001b[0m, \u001b[38;5;34m32\u001b[0m, \u001b[38;5;34m3\u001b[0m)      │              \u001b[38;5;34m0\u001b[0m │ random_contrast[\u001b[38;5;34m0\u001b[0m][\u001b[38;5;34m0\u001b[0m]  │\n",
              "├───────────────────────────┼────────────────────────┼────────────────┼────────────────────────┤\n",
              "│ random_rotation           │ (\u001b[38;5;45mNone\u001b[0m, \u001b[38;5;34m32\u001b[0m, \u001b[38;5;34m32\u001b[0m, \u001b[38;5;34m3\u001b[0m)      │              \u001b[38;5;34m0\u001b[0m │ random_zoom[\u001b[38;5;34m0\u001b[0m][\u001b[38;5;34m0\u001b[0m]      │\n",
              "│ (\u001b[38;5;33mRandomRotation\u001b[0m)          │                        │                │                        │\n",
              "├───────────────────────────┼────────────────────────┼────────────────┼────────────────────────┤\n",
              "│ conv2d (\u001b[38;5;33mConv2D\u001b[0m)           │ (\u001b[38;5;45mNone\u001b[0m, \u001b[38;5;34m32\u001b[0m, \u001b[38;5;34m32\u001b[0m, \u001b[38;5;34m32\u001b[0m)     │          \u001b[38;5;34m7,808\u001b[0m │ random_rotation[\u001b[38;5;34m0\u001b[0m][\u001b[38;5;34m0\u001b[0m]  │\n",
              "├───────────────────────────┼────────────────────────┼────────────────┼────────────────────────┤\n",
              "│ max_pooling2d             │ (\u001b[38;5;45mNone\u001b[0m, \u001b[38;5;34m16\u001b[0m, \u001b[38;5;34m16\u001b[0m, \u001b[38;5;34m32\u001b[0m)     │              \u001b[38;5;34m0\u001b[0m │ conv2d[\u001b[38;5;34m0\u001b[0m][\u001b[38;5;34m0\u001b[0m]           │\n",
              "│ (\u001b[38;5;33mMaxPooling2D\u001b[0m)            │                        │                │                        │\n",
              "├───────────────────────────┼────────────────────────┼────────────────┼────────────────────────┤\n",
              "│ conv2d_1 (\u001b[38;5;33mConv2D\u001b[0m)         │ (\u001b[38;5;45mNone\u001b[0m, \u001b[38;5;34m16\u001b[0m, \u001b[38;5;34m16\u001b[0m, \u001b[38;5;34m64\u001b[0m)     │         \u001b[38;5;34m18,496\u001b[0m │ max_pooling2d[\u001b[38;5;34m0\u001b[0m][\u001b[38;5;34m0\u001b[0m]    │\n",
              "├───────────────────────────┼────────────────────────┼────────────────┼────────────────────────┤\n",
              "│ max_pooling2d_1           │ (\u001b[38;5;45mNone\u001b[0m, \u001b[38;5;34m8\u001b[0m, \u001b[38;5;34m8\u001b[0m, \u001b[38;5;34m64\u001b[0m)       │              \u001b[38;5;34m0\u001b[0m │ conv2d_1[\u001b[38;5;34m0\u001b[0m][\u001b[38;5;34m0\u001b[0m]         │\n",
              "│ (\u001b[38;5;33mMaxPooling2D\u001b[0m)            │                        │                │                        │\n",
              "├───────────────────────────┼────────────────────────┼────────────────┼────────────────────────┤\n",
              "│ conv2d_2 (\u001b[38;5;33mConv2D\u001b[0m)         │ (\u001b[38;5;45mNone\u001b[0m, \u001b[38;5;34m8\u001b[0m, \u001b[38;5;34m8\u001b[0m, \u001b[38;5;34m128\u001b[0m)      │         \u001b[38;5;34m73,856\u001b[0m │ max_pooling2d_1[\u001b[38;5;34m0\u001b[0m][\u001b[38;5;34m0\u001b[0m]  │\n",
              "├───────────────────────────┼────────────────────────┼────────────────┼────────────────────────┤\n",
              "│ max_pooling2d_2           │ (\u001b[38;5;45mNone\u001b[0m, \u001b[38;5;34m4\u001b[0m, \u001b[38;5;34m4\u001b[0m, \u001b[38;5;34m128\u001b[0m)      │              \u001b[38;5;34m0\u001b[0m │ conv2d_2[\u001b[38;5;34m0\u001b[0m][\u001b[38;5;34m0\u001b[0m]         │\n",
              "│ (\u001b[38;5;33mMaxPooling2D\u001b[0m)            │                        │                │                        │\n",
              "├───────────────────────────┼────────────────────────┼────────────────┼────────────────────────┤\n",
              "│ flatten (\u001b[38;5;33mFlatten\u001b[0m)         │ (\u001b[38;5;45mNone\u001b[0m, \u001b[38;5;34m2048\u001b[0m)           │              \u001b[38;5;34m0\u001b[0m │ max_pooling2d_2[\u001b[38;5;34m0\u001b[0m][\u001b[38;5;34m0\u001b[0m]  │\n",
              "├───────────────────────────┼────────────────────────┼────────────────┼────────────────────────┤\n",
              "│ augmentation (\u001b[38;5;33mDense\u001b[0m)      │ (\u001b[38;5;45mNone\u001b[0m, \u001b[38;5;34m1\u001b[0m)              │          \u001b[38;5;34m2,049\u001b[0m │ flatten[\u001b[38;5;34m0\u001b[0m][\u001b[38;5;34m0\u001b[0m]          │\n",
              "├───────────────────────────┼────────────────────────┼────────────────┼────────────────────────┤\n",
              "│ classification (\u001b[38;5;33mDense\u001b[0m)    │ (\u001b[38;5;45mNone\u001b[0m, \u001b[38;5;34m25\u001b[0m)             │         \u001b[38;5;34m51,225\u001b[0m │ flatten[\u001b[38;5;34m0\u001b[0m][\u001b[38;5;34m0\u001b[0m]          │\n",
              "└───────────────────────────┴────────────────────────┴────────────────┴────────────────────────┘\n"
            ],
            "text/html": [
              "<pre style=\"white-space:pre;overflow-x:auto;line-height:normal;font-family:Menlo,'DejaVu Sans Mono',consolas,'Courier New',monospace\">┏━━━━━━━━━━━━━━━━━━━━━━━━━━━┳━━━━━━━━━━━━━━━━━━━━━━━━┳━━━━━━━━━━━━━━━━┳━━━━━━━━━━━━━━━━━━━━━━━━┓\n",
              "┃<span style=\"font-weight: bold\"> Layer (type)              </span>┃<span style=\"font-weight: bold\"> Output Shape           </span>┃<span style=\"font-weight: bold\">        Param # </span>┃<span style=\"font-weight: bold\"> Connected to           </span>┃\n",
              "┡━━━━━━━━━━━━━━━━━━━━━━━━━━━╇━━━━━━━━━━━━━━━━━━━━━━━━╇━━━━━━━━━━━━━━━━╇━━━━━━━━━━━━━━━━━━━━━━━━┩\n",
              "│ input_layer (<span style=\"color: #0087ff; text-decoration-color: #0087ff\">InputLayer</span>)  │ (<span style=\"color: #00d7ff; text-decoration-color: #00d7ff\">None</span>, <span style=\"color: #00af00; text-decoration-color: #00af00\">32</span>, <span style=\"color: #00af00; text-decoration-color: #00af00\">32</span>, <span style=\"color: #00af00; text-decoration-color: #00af00\">3</span>)      │              <span style=\"color: #00af00; text-decoration-color: #00af00\">0</span> │ -                      │\n",
              "├───────────────────────────┼────────────────────────┼────────────────┼────────────────────────┤\n",
              "│ random_contrast           │ (<span style=\"color: #00d7ff; text-decoration-color: #00d7ff\">None</span>, <span style=\"color: #00af00; text-decoration-color: #00af00\">32</span>, <span style=\"color: #00af00; text-decoration-color: #00af00\">32</span>, <span style=\"color: #00af00; text-decoration-color: #00af00\">3</span>)      │              <span style=\"color: #00af00; text-decoration-color: #00af00\">0</span> │ input_layer[<span style=\"color: #00af00; text-decoration-color: #00af00\">0</span>][<span style=\"color: #00af00; text-decoration-color: #00af00\">0</span>]      │\n",
              "│ (<span style=\"color: #0087ff; text-decoration-color: #0087ff\">RandomContrast</span>)          │                        │                │                        │\n",
              "├───────────────────────────┼────────────────────────┼────────────────┼────────────────────────┤\n",
              "│ random_zoom (<span style=\"color: #0087ff; text-decoration-color: #0087ff\">RandomZoom</span>)  │ (<span style=\"color: #00d7ff; text-decoration-color: #00d7ff\">None</span>, <span style=\"color: #00af00; text-decoration-color: #00af00\">32</span>, <span style=\"color: #00af00; text-decoration-color: #00af00\">32</span>, <span style=\"color: #00af00; text-decoration-color: #00af00\">3</span>)      │              <span style=\"color: #00af00; text-decoration-color: #00af00\">0</span> │ random_contrast[<span style=\"color: #00af00; text-decoration-color: #00af00\">0</span>][<span style=\"color: #00af00; text-decoration-color: #00af00\">0</span>]  │\n",
              "├───────────────────────────┼────────────────────────┼────────────────┼────────────────────────┤\n",
              "│ random_rotation           │ (<span style=\"color: #00d7ff; text-decoration-color: #00d7ff\">None</span>, <span style=\"color: #00af00; text-decoration-color: #00af00\">32</span>, <span style=\"color: #00af00; text-decoration-color: #00af00\">32</span>, <span style=\"color: #00af00; text-decoration-color: #00af00\">3</span>)      │              <span style=\"color: #00af00; text-decoration-color: #00af00\">0</span> │ random_zoom[<span style=\"color: #00af00; text-decoration-color: #00af00\">0</span>][<span style=\"color: #00af00; text-decoration-color: #00af00\">0</span>]      │\n",
              "│ (<span style=\"color: #0087ff; text-decoration-color: #0087ff\">RandomRotation</span>)          │                        │                │                        │\n",
              "├───────────────────────────┼────────────────────────┼────────────────┼────────────────────────┤\n",
              "│ conv2d (<span style=\"color: #0087ff; text-decoration-color: #0087ff\">Conv2D</span>)           │ (<span style=\"color: #00d7ff; text-decoration-color: #00d7ff\">None</span>, <span style=\"color: #00af00; text-decoration-color: #00af00\">32</span>, <span style=\"color: #00af00; text-decoration-color: #00af00\">32</span>, <span style=\"color: #00af00; text-decoration-color: #00af00\">32</span>)     │          <span style=\"color: #00af00; text-decoration-color: #00af00\">7,808</span> │ random_rotation[<span style=\"color: #00af00; text-decoration-color: #00af00\">0</span>][<span style=\"color: #00af00; text-decoration-color: #00af00\">0</span>]  │\n",
              "├───────────────────────────┼────────────────────────┼────────────────┼────────────────────────┤\n",
              "│ max_pooling2d             │ (<span style=\"color: #00d7ff; text-decoration-color: #00d7ff\">None</span>, <span style=\"color: #00af00; text-decoration-color: #00af00\">16</span>, <span style=\"color: #00af00; text-decoration-color: #00af00\">16</span>, <span style=\"color: #00af00; text-decoration-color: #00af00\">32</span>)     │              <span style=\"color: #00af00; text-decoration-color: #00af00\">0</span> │ conv2d[<span style=\"color: #00af00; text-decoration-color: #00af00\">0</span>][<span style=\"color: #00af00; text-decoration-color: #00af00\">0</span>]           │\n",
              "│ (<span style=\"color: #0087ff; text-decoration-color: #0087ff\">MaxPooling2D</span>)            │                        │                │                        │\n",
              "├───────────────────────────┼────────────────────────┼────────────────┼────────────────────────┤\n",
              "│ conv2d_1 (<span style=\"color: #0087ff; text-decoration-color: #0087ff\">Conv2D</span>)         │ (<span style=\"color: #00d7ff; text-decoration-color: #00d7ff\">None</span>, <span style=\"color: #00af00; text-decoration-color: #00af00\">16</span>, <span style=\"color: #00af00; text-decoration-color: #00af00\">16</span>, <span style=\"color: #00af00; text-decoration-color: #00af00\">64</span>)     │         <span style=\"color: #00af00; text-decoration-color: #00af00\">18,496</span> │ max_pooling2d[<span style=\"color: #00af00; text-decoration-color: #00af00\">0</span>][<span style=\"color: #00af00; text-decoration-color: #00af00\">0</span>]    │\n",
              "├───────────────────────────┼────────────────────────┼────────────────┼────────────────────────┤\n",
              "│ max_pooling2d_1           │ (<span style=\"color: #00d7ff; text-decoration-color: #00d7ff\">None</span>, <span style=\"color: #00af00; text-decoration-color: #00af00\">8</span>, <span style=\"color: #00af00; text-decoration-color: #00af00\">8</span>, <span style=\"color: #00af00; text-decoration-color: #00af00\">64</span>)       │              <span style=\"color: #00af00; text-decoration-color: #00af00\">0</span> │ conv2d_1[<span style=\"color: #00af00; text-decoration-color: #00af00\">0</span>][<span style=\"color: #00af00; text-decoration-color: #00af00\">0</span>]         │\n",
              "│ (<span style=\"color: #0087ff; text-decoration-color: #0087ff\">MaxPooling2D</span>)            │                        │                │                        │\n",
              "├───────────────────────────┼────────────────────────┼────────────────┼────────────────────────┤\n",
              "│ conv2d_2 (<span style=\"color: #0087ff; text-decoration-color: #0087ff\">Conv2D</span>)         │ (<span style=\"color: #00d7ff; text-decoration-color: #00d7ff\">None</span>, <span style=\"color: #00af00; text-decoration-color: #00af00\">8</span>, <span style=\"color: #00af00; text-decoration-color: #00af00\">8</span>, <span style=\"color: #00af00; text-decoration-color: #00af00\">128</span>)      │         <span style=\"color: #00af00; text-decoration-color: #00af00\">73,856</span> │ max_pooling2d_1[<span style=\"color: #00af00; text-decoration-color: #00af00\">0</span>][<span style=\"color: #00af00; text-decoration-color: #00af00\">0</span>]  │\n",
              "├───────────────────────────┼────────────────────────┼────────────────┼────────────────────────┤\n",
              "│ max_pooling2d_2           │ (<span style=\"color: #00d7ff; text-decoration-color: #00d7ff\">None</span>, <span style=\"color: #00af00; text-decoration-color: #00af00\">4</span>, <span style=\"color: #00af00; text-decoration-color: #00af00\">4</span>, <span style=\"color: #00af00; text-decoration-color: #00af00\">128</span>)      │              <span style=\"color: #00af00; text-decoration-color: #00af00\">0</span> │ conv2d_2[<span style=\"color: #00af00; text-decoration-color: #00af00\">0</span>][<span style=\"color: #00af00; text-decoration-color: #00af00\">0</span>]         │\n",
              "│ (<span style=\"color: #0087ff; text-decoration-color: #0087ff\">MaxPooling2D</span>)            │                        │                │                        │\n",
              "├───────────────────────────┼────────────────────────┼────────────────┼────────────────────────┤\n",
              "│ flatten (<span style=\"color: #0087ff; text-decoration-color: #0087ff\">Flatten</span>)         │ (<span style=\"color: #00d7ff; text-decoration-color: #00d7ff\">None</span>, <span style=\"color: #00af00; text-decoration-color: #00af00\">2048</span>)           │              <span style=\"color: #00af00; text-decoration-color: #00af00\">0</span> │ max_pooling2d_2[<span style=\"color: #00af00; text-decoration-color: #00af00\">0</span>][<span style=\"color: #00af00; text-decoration-color: #00af00\">0</span>]  │\n",
              "├───────────────────────────┼────────────────────────┼────────────────┼────────────────────────┤\n",
              "│ augmentation (<span style=\"color: #0087ff; text-decoration-color: #0087ff\">Dense</span>)      │ (<span style=\"color: #00d7ff; text-decoration-color: #00d7ff\">None</span>, <span style=\"color: #00af00; text-decoration-color: #00af00\">1</span>)              │          <span style=\"color: #00af00; text-decoration-color: #00af00\">2,049</span> │ flatten[<span style=\"color: #00af00; text-decoration-color: #00af00\">0</span>][<span style=\"color: #00af00; text-decoration-color: #00af00\">0</span>]          │\n",
              "├───────────────────────────┼────────────────────────┼────────────────┼────────────────────────┤\n",
              "│ classification (<span style=\"color: #0087ff; text-decoration-color: #0087ff\">Dense</span>)    │ (<span style=\"color: #00d7ff; text-decoration-color: #00d7ff\">None</span>, <span style=\"color: #00af00; text-decoration-color: #00af00\">25</span>)             │         <span style=\"color: #00af00; text-decoration-color: #00af00\">51,225</span> │ flatten[<span style=\"color: #00af00; text-decoration-color: #00af00\">0</span>][<span style=\"color: #00af00; text-decoration-color: #00af00\">0</span>]          │\n",
              "└───────────────────────────┴────────────────────────┴────────────────┴────────────────────────┘\n",
              "</pre>\n"
            ]
          },
          "metadata": {}
        },
        {
          "output_type": "display_data",
          "data": {
            "text/plain": [
              "\u001b[1m Total params: \u001b[0m\u001b[38;5;34m153,434\u001b[0m (599.35 KB)\n"
            ],
            "text/html": [
              "<pre style=\"white-space:pre;overflow-x:auto;line-height:normal;font-family:Menlo,'DejaVu Sans Mono',consolas,'Courier New',monospace\"><span style=\"font-weight: bold\"> Total params: </span><span style=\"color: #00af00; text-decoration-color: #00af00\">153,434</span> (599.35 KB)\n",
              "</pre>\n"
            ]
          },
          "metadata": {}
        },
        {
          "output_type": "display_data",
          "data": {
            "text/plain": [
              "\u001b[1m Trainable params: \u001b[0m\u001b[38;5;34m153,434\u001b[0m (599.35 KB)\n"
            ],
            "text/html": [
              "<pre style=\"white-space:pre;overflow-x:auto;line-height:normal;font-family:Menlo,'DejaVu Sans Mono',consolas,'Courier New',monospace\"><span style=\"font-weight: bold\"> Trainable params: </span><span style=\"color: #00af00; text-decoration-color: #00af00\">153,434</span> (599.35 KB)\n",
              "</pre>\n"
            ]
          },
          "metadata": {}
        },
        {
          "output_type": "display_data",
          "data": {
            "text/plain": [
              "\u001b[1m Non-trainable params: \u001b[0m\u001b[38;5;34m0\u001b[0m (0.00 B)\n"
            ],
            "text/html": [
              "<pre style=\"white-space:pre;overflow-x:auto;line-height:normal;font-family:Menlo,'DejaVu Sans Mono',consolas,'Courier New',monospace\"><span style=\"font-weight: bold\"> Non-trainable params: </span><span style=\"color: #00af00; text-decoration-color: #00af00\">0</span> (0.00 B)\n",
              "</pre>\n"
            ]
          },
          "metadata": {}
        }
      ]
    },
    {
      "cell_type": "code",
      "source": [
        "model.compile(\n",
        "    optimizer=tf.keras.optimizers.Adam(learning_rate=0.001),\n",
        "    loss=[\"binary_crossentropy\", \"categorical_crossentropy\"],\n",
        "    metrics=[[\"accuracy\"], [\"accuracy\"]]\n",
        "    )\n",
        "\n",
        "#Training the model\n",
        "model.fit(X_train, [y_train_binary, y_train], batch_size=16, epochs=60)"
      ],
      "metadata": {
        "colab": {
          "base_uri": "https://localhost:8080/"
        },
        "id": "pxf8O9_9yAQi",
        "outputId": "eea21d86-3dfc-4190-86c7-ff4052c3c3b5"
      },
      "execution_count": 17,
      "outputs": [
        {
          "output_type": "stream",
          "name": "stdout",
          "text": [
            "Epoch 1/60\n",
            "\u001b[1m15/15\u001b[0m \u001b[32m━━━━━━━━━━━━━━━━━━━━\u001b[0m\u001b[37m\u001b[0m \u001b[1m5s\u001b[0m 68ms/step - augmentation_accuracy: 0.7110 - classification_accuracy: 0.1459 - loss: 3.6102\n",
            "Epoch 2/60\n",
            "\u001b[1m15/15\u001b[0m \u001b[32m━━━━━━━━━━━━━━━━━━━━\u001b[0m\u001b[37m\u001b[0m \u001b[1m1s\u001b[0m 65ms/step - augmentation_accuracy: 0.8443 - classification_accuracy: 0.1570 - loss: 3.3371\n",
            "Epoch 3/60\n",
            "\u001b[1m15/15\u001b[0m \u001b[32m━━━━━━━━━━━━━━━━━━━━\u001b[0m\u001b[37m\u001b[0m \u001b[1m1s\u001b[0m 65ms/step - augmentation_accuracy: 0.8741 - classification_accuracy: 0.1701 - loss: 3.2699\n",
            "Epoch 4/60\n",
            "\u001b[1m15/15\u001b[0m \u001b[32m━━━━━━━━━━━━━━━━━━━━\u001b[0m\u001b[37m\u001b[0m \u001b[1m1s\u001b[0m 65ms/step - augmentation_accuracy: 0.8198 - classification_accuracy: 0.1641 - loss: 3.2142\n",
            "Epoch 5/60\n",
            "\u001b[1m15/15\u001b[0m \u001b[32m━━━━━━━━━━━━━━━━━━━━\u001b[0m\u001b[37m\u001b[0m \u001b[1m1s\u001b[0m 63ms/step - augmentation_accuracy: 0.8411 - classification_accuracy: 0.1889 - loss: 3.1823\n",
            "Epoch 6/60\n",
            "\u001b[1m15/15\u001b[0m \u001b[32m━━━━━━━━━━━━━━━━━━━━\u001b[0m\u001b[37m\u001b[0m \u001b[1m1s\u001b[0m 66ms/step - augmentation_accuracy: 0.8583 - classification_accuracy: 0.1896 - loss: 3.0363\n",
            "Epoch 7/60\n",
            "\u001b[1m15/15\u001b[0m \u001b[32m━━━━━━━━━━━━━━━━━━━━\u001b[0m\u001b[37m\u001b[0m \u001b[1m1s\u001b[0m 68ms/step - augmentation_accuracy: 0.8552 - classification_accuracy: 0.2564 - loss: 2.8071\n",
            "Epoch 8/60\n",
            "\u001b[1m15/15\u001b[0m \u001b[32m━━━━━━━━━━━━━━━━━━━━\u001b[0m\u001b[37m\u001b[0m \u001b[1m1s\u001b[0m 68ms/step - augmentation_accuracy: 0.8616 - classification_accuracy: 0.2853 - loss: 2.8318\n",
            "Epoch 9/60\n",
            "\u001b[1m15/15\u001b[0m \u001b[32m━━━━━━━━━━━━━━━━━━━━\u001b[0m\u001b[37m\u001b[0m \u001b[1m2s\u001b[0m 120ms/step - augmentation_accuracy: 0.8683 - classification_accuracy: 0.2777 - loss: 2.8707\n",
            "Epoch 10/60\n",
            "\u001b[1m15/15\u001b[0m \u001b[32m━━━━━━━━━━━━━━━━━━━━\u001b[0m\u001b[37m\u001b[0m \u001b[1m3s\u001b[0m 123ms/step - augmentation_accuracy: 0.8348 - classification_accuracy: 0.3265 - loss: 2.7822\n",
            "Epoch 11/60\n",
            "\u001b[1m15/15\u001b[0m \u001b[32m━━━━━━━━━━━━━━━━━━━━\u001b[0m\u001b[37m\u001b[0m \u001b[1m2s\u001b[0m 65ms/step - augmentation_accuracy: 0.8441 - classification_accuracy: 0.4026 - loss: 2.4308\n",
            "Epoch 12/60\n",
            "\u001b[1m15/15\u001b[0m \u001b[32m━━━━━━━━━━━━━━━━━━━━\u001b[0m\u001b[37m\u001b[0m \u001b[1m1s\u001b[0m 65ms/step - augmentation_accuracy: 0.8704 - classification_accuracy: 0.3792 - loss: 2.3982\n",
            "Epoch 13/60\n",
            "\u001b[1m15/15\u001b[0m \u001b[32m━━━━━━━━━━━━━━━━━━━━\u001b[0m\u001b[37m\u001b[0m \u001b[1m1s\u001b[0m 66ms/step - augmentation_accuracy: 0.8347 - classification_accuracy: 0.4592 - loss: 2.2693\n",
            "Epoch 14/60\n",
            "\u001b[1m15/15\u001b[0m \u001b[32m━━━━━━━━━━━━━━━━━━━━\u001b[0m\u001b[37m\u001b[0m \u001b[1m1s\u001b[0m 65ms/step - augmentation_accuracy: 0.8766 - classification_accuracy: 0.4293 - loss: 2.1518\n",
            "Epoch 15/60\n",
            "\u001b[1m15/15\u001b[0m \u001b[32m━━━━━━━━━━━━━━━━━━━━\u001b[0m\u001b[37m\u001b[0m \u001b[1m1s\u001b[0m 64ms/step - augmentation_accuracy: 0.8623 - classification_accuracy: 0.5011 - loss: 1.9716\n",
            "Epoch 16/60\n",
            "\u001b[1m15/15\u001b[0m \u001b[32m━━━━━━━━━━━━━━━━━━━━\u001b[0m\u001b[37m\u001b[0m \u001b[1m1s\u001b[0m 65ms/step - augmentation_accuracy: 0.9098 - classification_accuracy: 0.5219 - loss: 1.7997\n",
            "Epoch 17/60\n",
            "\u001b[1m15/15\u001b[0m \u001b[32m━━━━━━━━━━━━━━━━━━━━\u001b[0m\u001b[37m\u001b[0m \u001b[1m1s\u001b[0m 66ms/step - augmentation_accuracy: 0.8767 - classification_accuracy: 0.5758 - loss: 1.9599\n",
            "Epoch 18/60\n",
            "\u001b[1m15/15\u001b[0m \u001b[32m━━━━━━━━━━━━━━━━━━━━\u001b[0m\u001b[37m\u001b[0m \u001b[1m2s\u001b[0m 93ms/step - augmentation_accuracy: 0.9291 - classification_accuracy: 0.6207 - loss: 1.5886\n",
            "Epoch 19/60\n",
            "\u001b[1m15/15\u001b[0m \u001b[32m━━━━━━━━━━━━━━━━━━━━\u001b[0m\u001b[37m\u001b[0m \u001b[1m2s\u001b[0m 122ms/step - augmentation_accuracy: 0.9190 - classification_accuracy: 0.6426 - loss: 1.4612\n",
            "Epoch 20/60\n",
            "\u001b[1m15/15\u001b[0m \u001b[32m━━━━━━━━━━━━━━━━━━━━\u001b[0m\u001b[37m\u001b[0m \u001b[1m2s\u001b[0m 110ms/step - augmentation_accuracy: 0.9147 - classification_accuracy: 0.6084 - loss: 1.4722\n",
            "Epoch 21/60\n",
            "\u001b[1m15/15\u001b[0m \u001b[32m━━━━━━━━━━━━━━━━━━━━\u001b[0m\u001b[37m\u001b[0m \u001b[1m1s\u001b[0m 65ms/step - augmentation_accuracy: 0.8953 - classification_accuracy: 0.6739 - loss: 1.4279\n",
            "Epoch 22/60\n",
            "\u001b[1m15/15\u001b[0m \u001b[32m━━━━━━━━━━━━━━━━━━━━\u001b[0m\u001b[37m\u001b[0m \u001b[1m1s\u001b[0m 71ms/step - augmentation_accuracy: 0.9524 - classification_accuracy: 0.7294 - loss: 1.3091\n",
            "Epoch 23/60\n",
            "\u001b[1m15/15\u001b[0m \u001b[32m━━━━━━━━━━━━━━━━━━━━\u001b[0m\u001b[37m\u001b[0m \u001b[1m1s\u001b[0m 66ms/step - augmentation_accuracy: 0.9594 - classification_accuracy: 0.7415 - loss: 1.0974\n",
            "Epoch 24/60\n",
            "\u001b[1m15/15\u001b[0m \u001b[32m━━━━━━━━━━━━━━━━━━━━\u001b[0m\u001b[37m\u001b[0m \u001b[1m1s\u001b[0m 66ms/step - augmentation_accuracy: 0.9339 - classification_accuracy: 0.6841 - loss: 1.2388\n",
            "Epoch 25/60\n",
            "\u001b[1m15/15\u001b[0m \u001b[32m━━━━━━━━━━━━━━━━━━━━\u001b[0m\u001b[37m\u001b[0m \u001b[1m1s\u001b[0m 69ms/step - augmentation_accuracy: 0.9516 - classification_accuracy: 0.7868 - loss: 0.9149\n",
            "Epoch 26/60\n",
            "\u001b[1m15/15\u001b[0m \u001b[32m━━━━━━━━━━━━━━━━━━━━\u001b[0m\u001b[37m\u001b[0m \u001b[1m1s\u001b[0m 65ms/step - augmentation_accuracy: 0.9298 - classification_accuracy: 0.7215 - loss: 1.1030\n",
            "Epoch 27/60\n",
            "\u001b[1m15/15\u001b[0m \u001b[32m━━━━━━━━━━━━━━━━━━━━\u001b[0m\u001b[37m\u001b[0m \u001b[1m1s\u001b[0m 66ms/step - augmentation_accuracy: 0.9157 - classification_accuracy: 0.7013 - loss: 1.2035\n",
            "Epoch 28/60\n",
            "\u001b[1m15/15\u001b[0m \u001b[32m━━━━━━━━━━━━━━━━━━━━\u001b[0m\u001b[37m\u001b[0m \u001b[1m1s\u001b[0m 66ms/step - augmentation_accuracy: 0.9413 - classification_accuracy: 0.8161 - loss: 0.9126\n",
            "Epoch 29/60\n",
            "\u001b[1m15/15\u001b[0m \u001b[32m━━━━━━━━━━━━━━━━━━━━\u001b[0m\u001b[37m\u001b[0m \u001b[1m1s\u001b[0m 93ms/step - augmentation_accuracy: 0.9549 - classification_accuracy: 0.7544 - loss: 0.8721\n",
            "Epoch 30/60\n",
            "\u001b[1m15/15\u001b[0m \u001b[32m━━━━━━━━━━━━━━━━━━━━\u001b[0m\u001b[37m\u001b[0m \u001b[1m3s\u001b[0m 118ms/step - augmentation_accuracy: 0.9588 - classification_accuracy: 0.8401 - loss: 0.7983\n",
            "Epoch 31/60\n",
            "\u001b[1m15/15\u001b[0m \u001b[32m━━━━━━━━━━━━━━━━━━━━\u001b[0m\u001b[37m\u001b[0m \u001b[1m2s\u001b[0m 65ms/step - augmentation_accuracy: 0.9617 - classification_accuracy: 0.7622 - loss: 0.9290\n",
            "Epoch 32/60\n",
            "\u001b[1m15/15\u001b[0m \u001b[32m━━━━━━━━━━━━━━━━━━━━\u001b[0m\u001b[37m\u001b[0m \u001b[1m1s\u001b[0m 66ms/step - augmentation_accuracy: 0.9639 - classification_accuracy: 0.8233 - loss: 0.7258\n",
            "Epoch 33/60\n",
            "\u001b[1m15/15\u001b[0m \u001b[32m━━━━━━━━━━━━━━━━━━━━\u001b[0m\u001b[37m\u001b[0m \u001b[1m1s\u001b[0m 65ms/step - augmentation_accuracy: 0.9618 - classification_accuracy: 0.8133 - loss: 0.7381\n",
            "Epoch 34/60\n",
            "\u001b[1m15/15\u001b[0m \u001b[32m━━━━━━━━━━━━━━━━━━━━\u001b[0m\u001b[37m\u001b[0m \u001b[1m1s\u001b[0m 65ms/step - augmentation_accuracy: 0.9704 - classification_accuracy: 0.8300 - loss: 0.7326\n",
            "Epoch 35/60\n",
            "\u001b[1m15/15\u001b[0m \u001b[32m━━━━━━━━━━━━━━━━━━━━\u001b[0m\u001b[37m\u001b[0m \u001b[1m1s\u001b[0m 64ms/step - augmentation_accuracy: 0.9893 - classification_accuracy: 0.9014 - loss: 0.4802\n",
            "Epoch 36/60\n",
            "\u001b[1m15/15\u001b[0m \u001b[32m━━━━━━━━━━━━━━━━━━━━\u001b[0m\u001b[37m\u001b[0m \u001b[1m1s\u001b[0m 65ms/step - augmentation_accuracy: 0.9700 - classification_accuracy: 0.8481 - loss: 0.6469\n",
            "Epoch 37/60\n",
            "\u001b[1m15/15\u001b[0m \u001b[32m━━━━━━━━━━━━━━━━━━━━\u001b[0m\u001b[37m\u001b[0m \u001b[1m1s\u001b[0m 64ms/step - augmentation_accuracy: 0.9846 - classification_accuracy: 0.8809 - loss: 0.5824\n",
            "Epoch 38/60\n",
            "\u001b[1m15/15\u001b[0m \u001b[32m━━━━━━━━━━━━━━━━━━━━\u001b[0m\u001b[37m\u001b[0m \u001b[1m1s\u001b[0m 65ms/step - augmentation_accuracy: 0.9503 - classification_accuracy: 0.8963 - loss: 0.5350\n",
            "Epoch 39/60\n",
            "\u001b[1m15/15\u001b[0m \u001b[32m━━━━━━━━━━━━━━━━━━━━\u001b[0m\u001b[37m\u001b[0m \u001b[1m1s\u001b[0m 65ms/step - augmentation_accuracy: 0.9848 - classification_accuracy: 0.8616 - loss: 0.5709\n",
            "Epoch 40/60\n",
            "\u001b[1m15/15\u001b[0m \u001b[32m━━━━━━━━━━━━━━━━━━━━\u001b[0m\u001b[37m\u001b[0m \u001b[1m2s\u001b[0m 123ms/step - augmentation_accuracy: 0.9493 - classification_accuracy: 0.8751 - loss: 0.6615\n",
            "Epoch 41/60\n",
            "\u001b[1m15/15\u001b[0m \u001b[32m━━━━━━━━━━━━━━━━━━━━\u001b[0m\u001b[37m\u001b[0m \u001b[1m3s\u001b[0m 126ms/step - augmentation_accuracy: 0.9896 - classification_accuracy: 0.8565 - loss: 0.5546\n",
            "Epoch 42/60\n",
            "\u001b[1m15/15\u001b[0m \u001b[32m━━━━━━━━━━━━━━━━━━━━\u001b[0m\u001b[37m\u001b[0m \u001b[1m1s\u001b[0m 71ms/step - augmentation_accuracy: 0.9863 - classification_accuracy: 0.8683 - loss: 0.5201\n",
            "Epoch 43/60\n",
            "\u001b[1m15/15\u001b[0m \u001b[32m━━━━━━━━━━━━━━━━━━━━\u001b[0m\u001b[37m\u001b[0m \u001b[1m1s\u001b[0m 65ms/step - augmentation_accuracy: 0.9816 - classification_accuracy: 0.9133 - loss: 0.3513\n",
            "Epoch 44/60\n",
            "\u001b[1m15/15\u001b[0m \u001b[32m━━━━━━━━━━━━━━━━━━━━\u001b[0m\u001b[37m\u001b[0m \u001b[1m1s\u001b[0m 67ms/step - augmentation_accuracy: 0.9453 - classification_accuracy: 0.8892 - loss: 0.4817\n",
            "Epoch 45/60\n",
            "\u001b[1m15/15\u001b[0m \u001b[32m━━━━━━━━━━━━━━━━━━━━\u001b[0m\u001b[37m\u001b[0m \u001b[1m1s\u001b[0m 70ms/step - augmentation_accuracy: 0.9822 - classification_accuracy: 0.9163 - loss: 0.4132\n",
            "Epoch 46/60\n",
            "\u001b[1m15/15\u001b[0m \u001b[32m━━━━━━━━━━━━━━━━━━━━\u001b[0m\u001b[37m\u001b[0m \u001b[1m1s\u001b[0m 66ms/step - augmentation_accuracy: 0.9814 - classification_accuracy: 0.8640 - loss: 0.4626\n",
            "Epoch 47/60\n",
            "\u001b[1m15/15\u001b[0m \u001b[32m━━━━━━━━━━━━━━━━━━━━\u001b[0m\u001b[37m\u001b[0m \u001b[1m1s\u001b[0m 65ms/step - augmentation_accuracy: 0.9743 - classification_accuracy: 0.9058 - loss: 0.4009\n",
            "Epoch 48/60\n",
            "\u001b[1m15/15\u001b[0m \u001b[32m━━━━━━━━━━━━━━━━━━━━\u001b[0m\u001b[37m\u001b[0m \u001b[1m1s\u001b[0m 66ms/step - augmentation_accuracy: 0.9751 - classification_accuracy: 0.9025 - loss: 0.4091\n",
            "Epoch 49/60\n",
            "\u001b[1m15/15\u001b[0m \u001b[32m━━━━━━━━━━━━━━━━━━━━\u001b[0m\u001b[37m\u001b[0m \u001b[1m1s\u001b[0m 68ms/step - augmentation_accuracy: 0.9899 - classification_accuracy: 0.9424 - loss: 0.3120\n",
            "Epoch 50/60\n",
            "\u001b[1m15/15\u001b[0m \u001b[32m━━━━━━━━━━━━━━━━━━━━\u001b[0m\u001b[37m\u001b[0m \u001b[1m1s\u001b[0m 67ms/step - augmentation_accuracy: 0.9729 - classification_accuracy: 0.8904 - loss: 0.3627\n",
            "Epoch 51/60\n",
            "\u001b[1m15/15\u001b[0m \u001b[32m━━━━━━━━━━━━━━━━━━━━\u001b[0m\u001b[37m\u001b[0m \u001b[1m2s\u001b[0m 109ms/step - augmentation_accuracy: 0.9726 - classification_accuracy: 0.9562 - loss: 0.3376\n",
            "Epoch 52/60\n",
            "\u001b[1m15/15\u001b[0m \u001b[32m━━━━━━━━━━━━━━━━━━━━\u001b[0m\u001b[37m\u001b[0m \u001b[1m3s\u001b[0m 123ms/step - augmentation_accuracy: 0.9936 - classification_accuracy: 0.9670 - loss: 0.2339\n",
            "Epoch 53/60\n",
            "\u001b[1m15/15\u001b[0m \u001b[32m━━━━━━━━━━━━━━━━━━━━\u001b[0m\u001b[37m\u001b[0m \u001b[1m1s\u001b[0m 81ms/step - augmentation_accuracy: 0.9833 - classification_accuracy: 0.9380 - loss: 0.3578\n",
            "Epoch 54/60\n",
            "\u001b[1m15/15\u001b[0m \u001b[32m━━━━━━━━━━━━━━━━━━━━\u001b[0m\u001b[37m\u001b[0m \u001b[1m1s\u001b[0m 65ms/step - augmentation_accuracy: 0.9633 - classification_accuracy: 0.9361 - loss: 0.3350\n",
            "Epoch 55/60\n",
            "\u001b[1m15/15\u001b[0m \u001b[32m━━━━━━━━━━━━━━━━━━━━\u001b[0m\u001b[37m\u001b[0m \u001b[1m1s\u001b[0m 66ms/step - augmentation_accuracy: 0.9739 - classification_accuracy: 0.9280 - loss: 0.3027\n",
            "Epoch 56/60\n",
            "\u001b[1m15/15\u001b[0m \u001b[32m━━━━━━━━━━━━━━━━━━━━\u001b[0m\u001b[37m\u001b[0m \u001b[1m1s\u001b[0m 68ms/step - augmentation_accuracy: 0.9835 - classification_accuracy: 0.9611 - loss: 0.1990\n",
            "Epoch 57/60\n",
            "\u001b[1m15/15\u001b[0m \u001b[32m━━━━━━━━━━━━━━━━━━━━\u001b[0m\u001b[37m\u001b[0m \u001b[1m1s\u001b[0m 68ms/step - augmentation_accuracy: 0.9951 - classification_accuracy: 0.9134 - loss: 0.3163\n",
            "Epoch 58/60\n",
            "\u001b[1m15/15\u001b[0m \u001b[32m━━━━━━━━━━━━━━━━━━━━\u001b[0m\u001b[37m\u001b[0m \u001b[1m1s\u001b[0m 67ms/step - augmentation_accuracy: 0.9850 - classification_accuracy: 0.9187 - loss: 0.3499\n",
            "Epoch 59/60\n",
            "\u001b[1m15/15\u001b[0m \u001b[32m━━━━━━━━━━━━━━━━━━━━\u001b[0m\u001b[37m\u001b[0m \u001b[1m1s\u001b[0m 68ms/step - augmentation_accuracy: 0.9890 - classification_accuracy: 0.9590 - loss: 0.2366\n",
            "Epoch 60/60\n",
            "\u001b[1m15/15\u001b[0m \u001b[32m━━━━━━━━━━━━━━━━━━━━\u001b[0m\u001b[37m\u001b[0m \u001b[1m1s\u001b[0m 66ms/step - augmentation_accuracy: 0.9844 - classification_accuracy: 0.9532 - loss: 0.2721\n"
          ]
        },
        {
          "output_type": "execute_result",
          "data": {
            "text/plain": [
              "<keras.src.callbacks.history.History at 0x784dd20c51e0>"
            ]
          },
          "metadata": {},
          "execution_count": 17
        }
      ]
    },
    {
      "cell_type": "code",
      "source": [
        "#Getting the accuracy of the model\n",
        "\n",
        "_, augmentation_accuracy, classification_accuracy = model.evaluate(X_train, [y_train_binary, y_train], verbose = 0) # Now returns 3 values, discard the first (loss)\n",
        "print(f\"Train accuracy (Classification): {classification_accuracy:.4f}, Train accuracy (Binary): {augmentation_accuracy:.4f}\")\n",
        "\n",
        "_, augmentation_accuracy, classification_accuracy = model.evaluate(X_test, [y_test_binary, y_test], verbose = 0) # Now returns 3 values, discard the first (loss)\n",
        "print(f\"Test accuracy (Classification): {classification_accuracy:.4f}, Test accuracy (Binary): {augmentation_accuracy:.4f}\")"
      ],
      "metadata": {
        "colab": {
          "base_uri": "https://localhost:8080/"
        },
        "id": "7VZVCh15zTp3",
        "outputId": "da68667f-a1c5-48a9-90a9-edc773195a92"
      },
      "execution_count": 22,
      "outputs": [
        {
          "output_type": "stream",
          "name": "stdout",
          "text": [
            "Train accuracy (Classification): 0.9828, Train accuracy (Binary): 1.0000\n",
            "Test accuracy (Classification): 0.6000, Test accuracy (Binary): 0.9500\n"
          ]
        }
      ]
    },
    {
      "cell_type": "code",
      "source": [],
      "metadata": {
        "id": "lLbQuZUZ_7jg"
      },
      "execution_count": null,
      "outputs": []
    }
  ]
}